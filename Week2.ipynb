{
 "cells": [
  {
   "cell_type": "markdown",
   "metadata": {},
   "source": [
    "## Problem 1 \n",
    "\n",
    "The weights listed below were recorded in the !Kung census, but heights were not recorded for these individuals. Provide predicted heights and 89% compatibility intervals for each of these individuals. That is, fill in the table below, using model-based predictions.\n",
    "\n",
    "| Individual | Weight | Expected height | 89% interval |\n",
    "|------------|--------|-----------------|--------------|\n",
    "| 1          | 45     |                 |              |\n",
    "| 2          | 40     |                 |              |\n",
    "| 3          | 65     |                 |              |\n",
    "| 4          | 31     |                 |              |"
   ]
  },
  {
   "cell_type": "code",
   "execution_count": 6,
   "metadata": {},
   "outputs": [],
   "source": [
    "import pandas \n",
    "import matplotlib.pyplot as plt \n",
    "import seaborn as sns \n",
    "sns.set()\n",
    "\n",
    "plt.rcParams['figure.figsize'] = [10, 8]\n",
    "plt.rcParams['figure.dpi'] = 100\n"
   ]
  },
  {
   "cell_type": "markdown",
   "metadata": {},
   "source": [
    "---\n",
    "First, without feeding the data to the model, we'll analyze the assumptions and prior. \n",
    "We'll assume that:\n",
    "$$\n",
    "h_i \\sim \\text{N} ( \\mu_i , \\sigma)\n",
    "$$"
   ]
  },
  {
   "cell_type": "markdown",
   "metadata": {},
   "source": [
    "That is, each individual height is normally distributed, with a different mean $\\mu_i$ specific to that particular individual, and a general, population level standard deviation $\\sigma$. \n"
   ]
  },
  {
   "cell_type": "raw",
   "metadata": {},
   "source": [
    "Furthermore, we also assume: \n",
    "$$ \n",
    "\\mu_i = a X + \n",
    "$$\n"
   ]
  },
  {
   "cell_type": "markdown",
   "metadata": {},
   "source": [
    "# df = pandas.read_csv(\"Data/Howell1.csv\")\n",
    "# df = df[df[\"age\"] > 18]\n",
    "# plt.scatter(df[\"weight\"], df[\"height\"])\n",
    "# plt.show()\n"
   ]
  },
  {
   "cell_type": "code",
   "execution_count": null,
   "metadata": {},
   "outputs": [],
   "source": []
  }
 ],
 "metadata": {
  "kernelspec": {
   "display_name": "Python 3",
   "language": "python",
   "name": "python3"
  },
  "language_info": {
   "codemirror_mode": {
    "name": "ipython",
    "version": 3
   },
   "file_extension": ".py",
   "mimetype": "text/x-python",
   "name": "python",
   "nbconvert_exporter": "python",
   "pygments_lexer": "ipython3",
   "version": "3.8.5"
  }
 },
 "nbformat": 4,
 "nbformat_minor": 4
}
